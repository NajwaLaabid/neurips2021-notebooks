{
 "cells": [
  {
   "cell_type": "code",
   "execution_count": null,
   "id": "9189ad94-54fd-4209-a8e0-b6d4e26efb56",
   "metadata": {
    "tags": []
   },
   "outputs": [],
   "source": [
    "import scanpy as sc\n",
    "import pandas as pd"
   ]
  },
  {
   "cell_type": "code",
   "execution_count": null,
   "id": "95919f96-93b1-463d-b925-e30f9bf94e98",
   "metadata": {
    "tags": []
   },
   "outputs": [],
   "source": [
    "adata = sc.read_10x_h5('filtered_feature_bc_matrix.h5', gex_only=False)"
   ]
  },
  {
   "cell_type": "code",
   "execution_count": null,
   "id": "dc4dc444-31f9-45ad-b886-14c563b03a44",
   "metadata": {
    "tags": []
   },
   "outputs": [],
   "source": [
    "adata.var_names_make_unique()\n",
    "adata"
   ]
  },
  {
   "cell_type": "code",
   "execution_count": null,
   "id": "1fb3012e-0e34-48d7-a8f5-bec8ca229eab",
   "metadata": {
    "tags": []
   },
   "outputs": [],
   "source": [
    "adata.obs['samp'] = [idx.split('-')[1] for idx in adata.obs_names]"
   ]
  },
  {
   "cell_type": "code",
   "execution_count": null,
   "id": "9d12fa52-2de0-4fad-8cb7-a7d45f3432c2",
   "metadata": {
    "tags": []
   },
   "outputs": [],
   "source": [
    "adata.obs['samp'].value_counts()"
   ]
  },
  {
   "cell_type": "code",
   "execution_count": null,
   "id": "2c7be483-1883-4e5d-bbf7-e084ee24ccc7",
   "metadata": {
    "tags": []
   },
   "outputs": [],
   "source": [
    "sample_map = {'1': 'S1D1',\n",
    " '2': 'S1D2',\n",
    " '3': 'S1D3',\n",
    " '4': 'S2D1',\n",
    " '5': 'S2D2'\n",
    "}\n",
    "\n",
    "adata.obs['sample'] = [sample_map[s] for s in adata.obs['samp']]\n",
    "del adata.obs['samp']"
   ]
  },
  {
   "cell_type": "code",
   "execution_count": null,
   "id": "cb00542e-0e3f-48e7-9269-54241622f89e",
   "metadata": {
    "tags": []
   },
   "outputs": [],
   "source": [
    "adata.obs['sample'].value_counts()"
   ]
  },
  {
   "cell_type": "code",
   "execution_count": null,
   "id": "dcd69fbf-fdd7-4b68-b02a-bb00cbfc3987",
   "metadata": {
    "tags": []
   },
   "outputs": [],
   "source": [
    "adata_s1d1 = adata[adata.obs['sample'].isin(['S1D1'])].copy()"
   ]
  },
  {
   "cell_type": "code",
   "execution_count": null,
   "id": "6e0d9aee-6ddd-4fb4-9f5e-da9d4350a8d3",
   "metadata": {},
   "outputs": [],
   "source": [
    "adata_s1"
   ]
  }
 ],
 "metadata": {
  "kernelspec": {
   "display_name": "saturn (Python 3)",
   "language": "python",
   "name": "python3"
  },
  "language_info": {
   "codemirror_mode": {
    "name": "ipython",
    "version": 3
   },
   "file_extension": ".py",
   "mimetype": "text/x-python",
   "name": "python",
   "nbconvert_exporter": "python",
   "pygments_lexer": "ipython3",
   "version": "3.9.6"
  }
 },
 "nbformat": 4,
 "nbformat_minor": 5
}
